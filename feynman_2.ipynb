{
  "nbformat": 4,
  "nbformat_minor": 0,
  "metadata": {
    "colab": {
      "provenance": [],
      "gpuType": "T4",
      "authorship_tag": "ABX9TyM6rqhC26qb1P/J2Rdl0ivi",
      "include_colab_link": true
    },
    "kernelspec": {
      "name": "python3",
      "display_name": "Python 3"
    },
    "language_info": {
      "name": "python"
    },
    "accelerator": "GPU"
  },
  "cells": [
    {
      "cell_type": "markdown",
      "metadata": {
        "id": "view-in-github",
        "colab_type": "text"
      },
      "source": [
        "<a href=\"https://colab.research.google.com/github/AlmTechSoftware/piper/blob/main/feynman_2.ipynb\" target=\"_parent\"><img src=\"https://colab.research.google.com/assets/colab-badge.svg\" alt=\"Open In Colab\"/></a>"
      ]
    },
    {
      "cell_type": "code",
      "execution_count": null,
      "metadata": {
        "id": "S9K_EnzFxBXI"
      },
      "outputs": [],
      "source": [
        "!curl http://0x0.st/HLoi.zip > dataset.zip\n",
        "!unzip dataset.zip -d dataset"
      ]
    },
    {
      "cell_type": "code",
      "source": [
        "!pip install  opencv-python \\\n",
        "              scikit-image \\\n",
        "              python-dotenv \\\n",
        "              pycocotools \\\n",
        "              dataclasses-json \\\n",
        "              supervision \\\n",
        "              colored \\\n",
        "              wandb \\\n",
        "              torchvision -Uq"
      ],
      "metadata": {
        "id": "wrESAlTsxScr"
      },
      "execution_count": null,
      "outputs": []
    },
    {
      "cell_type": "markdown",
      "source": [
        "## WandB login"
      ],
      "metadata": {
        "id": "9ENtKgHgx6RE"
      }
    },
    {
      "cell_type": "code",
      "source": [
        "import wandb\n",
        "wandb.login()"
      ],
      "metadata": {
        "colab": {
          "base_uri": "https://localhost:8080/",
          "height": 121
        },
        "id": "s5ANw45px5V5",
        "outputId": "e67d996c-3378-4f3c-dbf4-c658f1ae01c6"
      },
      "execution_count": null,
      "outputs": [
        {
          "output_type": "display_data",
          "data": {
            "text/plain": [
              "<IPython.core.display.Javascript object>"
            ],
            "application/javascript": [
              "\n",
              "        window._wandbApiKey = new Promise((resolve, reject) => {\n",
              "            function loadScript(url) {\n",
              "            return new Promise(function(resolve, reject) {\n",
              "                let newScript = document.createElement(\"script\");\n",
              "                newScript.onerror = reject;\n",
              "                newScript.onload = resolve;\n",
              "                document.body.appendChild(newScript);\n",
              "                newScript.src = url;\n",
              "            });\n",
              "            }\n",
              "            loadScript(\"https://cdn.jsdelivr.net/npm/postmate/build/postmate.min.js\").then(() => {\n",
              "            const iframe = document.createElement('iframe')\n",
              "            iframe.style.cssText = \"width:0;height:0;border:none\"\n",
              "            document.body.appendChild(iframe)\n",
              "            const handshake = new Postmate({\n",
              "                container: iframe,\n",
              "                url: 'https://wandb.ai/authorize'\n",
              "            });\n",
              "            const timeout = setTimeout(() => reject(\"Couldn't auto authenticate\"), 5000)\n",
              "            handshake.then(function(child) {\n",
              "                child.on('authorize', data => {\n",
              "                    clearTimeout(timeout)\n",
              "                    resolve(data)\n",
              "                });\n",
              "            });\n",
              "            })\n",
              "        });\n",
              "    "
            ]
          },
          "metadata": {}
        },
        {
          "output_type": "stream",
          "name": "stderr",
          "text": [
            "\u001b[34m\u001b[1mwandb\u001b[0m: Logging into wandb.ai. (Learn how to deploy a W&B server locally: https://wandb.me/wandb-server)\n",
            "\u001b[34m\u001b[1mwandb\u001b[0m: You can find your API key in your browser here: https://wandb.ai/authorize\n",
            "wandb: Paste an API key from your profile and hit enter, or press ctrl+c to quit:"
          ]
        },
        {
          "name": "stdout",
          "output_type": "stream",
          "text": [
            " ··········\n"
          ]
        },
        {
          "output_type": "stream",
          "name": "stderr",
          "text": [
            "\u001b[34m\u001b[1mwandb\u001b[0m: Appending key for api.wandb.ai to your netrc file: /root/.netrc\n"
          ]
        },
        {
          "output_type": "execute_result",
          "data": {
            "text/plain": [
              "True"
            ]
          },
          "metadata": {},
          "execution_count": 5
        }
      ]
    },
    {
      "cell_type": "markdown",
      "source": [
        "## Dataset Handler Definition"
      ],
      "metadata": {
        "id": "-OJlNPcXyxYI"
      }
    },
    {
      "cell_type": "code",
      "source": [
        "import os\n",
        "from typing import Tuple\n",
        "import torch\n",
        "import numpy as np\n",
        "from torch.utils.data import Dataset\n",
        "from torchvision import transforms\n",
        "import pycocotools.coco as coco\n",
        "\n",
        "from PIL import Image\n",
        "from matplotlib import cm\n",
        "\n",
        "class COCODataset(Dataset):\n",
        "    def __init__(\n",
        "        self,\n",
        "        dataset_dir: str,\n",
        "    ):\n",
        "        self.dataset_dir = dataset_dir\n",
        "        self.transform = transforms.Compose(\n",
        "            [\n",
        "                transforms.ToTensor(),\n",
        "                transforms.Normalize(\n",
        "                    # NOTE: ImageNet\n",
        "                    mean=[0.485, 0.456, 0.406],\n",
        "                    std=[0.229, 0.224, 0.225],\n",
        "                ),\n",
        "            ]\n",
        "        )\n",
        "\n",
        "        self.coco_data = self.load_coco_data()\n",
        "\n",
        "    def load_coco_data(self):\n",
        "        coco_file_path = os.path.join(self.dataset_dir, \"_annotations.coco.json\")\n",
        "        return coco.COCO(coco_file_path)\n",
        "\n",
        "    def __len__(self):\n",
        "        return len(self.coco_data.imgs)\n",
        "\n",
        "    def __getitem__(self, idx):\n",
        "        image_info = list(self.coco_data.imgs.values())[idx]\n",
        "        image_path = os.path.join(self.dataset_dir, image_info[\"file_name\"])\n",
        "\n",
        "        # Load and preprocess the image\n",
        "        image = Image.open(image_path).convert(\"RGB\")\n",
        "        image = self.transform(image)\n",
        "\n",
        "        # Load and preprocess the segmentation mask\n",
        "        ann_ids = self.coco_data.getAnnIds(imgIds=image_info[\"id\"], iscrowd=None)\n",
        "        mask = np.zeros((image_info[\"height\"], image_info[\"width\"]))\n",
        "        for ann_id in ann_ids:\n",
        "            mask += self.coco_data.annToMask(self.coco_data.anns[ann_id])\n",
        "        mask = torch.tensor(mask).unsqueeze(0).float() / 255.0\n",
        "        mask = mask.repeat(3, 1, 1)\n",
        "\n",
        "        return image, mask"
      ],
      "metadata": {
        "id": "j1EmI8I7y0fX"
      },
      "execution_count": null,
      "outputs": []
    },
    {
      "cell_type": "code",
      "source": [
        "import torchvision.transforms as T\n",
        "_tensor_pil_transform = T.ToPILImage()\n",
        "\n",
        "def tensor_to_pil(tensor: torch.Tensor) -> Image:\n",
        "    return _tensor_pil_transform(tensor)"
      ],
      "metadata": {
        "id": "35hBUOfbzzvw"
      },
      "execution_count": null,
      "outputs": []
    },
    {
      "cell_type": "markdown",
      "source": [
        "### Example"
      ],
      "metadata": {
        "id": "PoCn7gmozJlB"
      }
    },
    {
      "cell_type": "code",
      "source": [
        "dataset = COCODataset(\"dataset/train\")\n",
        "\n",
        "sak = dataset[0]\n",
        "display(sak)"
      ],
      "metadata": {
        "colab": {
          "base_uri": "https://localhost:8080/",
          "height": 884
        },
        "id": "DSA6-SeXzI5c",
        "outputId": "a76a7ffb-a430-4235-ad0b-f17bf1ed7ef5"
      },
      "execution_count": null,
      "outputs": [
        {
          "output_type": "stream",
          "name": "stdout",
          "text": [
            "loading annotations into memory...\n",
            "Done (t=0.00s)\n",
            "creating index...\n",
            "index created!\n"
          ]
        },
        {
          "output_type": "display_data",
          "data": {
            "text/plain": [
              "(tensor([[[ 0.8447,  0.9817,  1.0502,  ...,  2.0092,  2.0434,  2.0777],\n",
              "          [ 0.6906,  0.7762,  0.8104,  ...,  2.0263,  2.0777,  2.1119],\n",
              "          [ 0.5193,  0.5536,  0.5364,  ...,  2.0605,  2.0948,  2.1290],\n",
              "          ...,\n",
              "          [-0.5596, -0.4054, -0.3198,  ...,  1.2214,  1.4440,  1.9920],\n",
              "          [-0.5082, -0.4226, -0.3541,  ...,  0.9303,  1.2214,  1.8550],\n",
              "          [-0.5596, -0.5424, -0.4568,  ...,  0.6049,  0.9474,  1.6495]],\n",
              " \n",
              "         [[ 1.0805,  1.2206,  1.2906,  ...,  2.2010,  2.2360,  2.2710],\n",
              "          [ 0.9230,  1.0105,  1.0455,  ...,  2.2185,  2.2710,  2.3060],\n",
              "          [ 0.7479,  0.7829,  0.7654,  ...,  2.2535,  2.2885,  2.3235],\n",
              "          ...,\n",
              "          [-0.5651, -0.4076, -0.3550,  ...,  1.1155,  1.3431,  1.9034],\n",
              "          [-0.4601, -0.3725, -0.3550,  ...,  0.7654,  1.0630,  1.7108],\n",
              "          [-0.5126, -0.4951, -0.4601,  ...,  0.4328,  0.7829,  1.5007]],\n",
              " \n",
              "         [[ 1.4025,  1.5420,  1.6117,  ...,  2.5006,  2.5354,  2.5703],\n",
              "          [ 1.2457,  1.3328,  1.3677,  ...,  2.5180,  2.5703,  2.6051],\n",
              "          [ 1.0714,  1.1062,  1.0888,  ...,  2.5354,  2.5703,  2.6051],\n",
              "          ...,\n",
              "          [-0.4450, -0.2881, -0.2184,  ...,  1.2457,  1.4722,  2.0300],\n",
              "          [-0.3927, -0.3055, -0.2707,  ...,  0.9145,  1.2108,  1.8557],\n",
              "          [-0.4450, -0.4275, -0.3753,  ...,  0.5834,  0.9319,  1.6465]]]),\n",
              " tensor([[[0., 0., 0.,  ..., 0., 0., 0.],\n",
              "          [0., 0., 0.,  ..., 0., 0., 0.],\n",
              "          [0., 0., 0.,  ..., 0., 0., 0.],\n",
              "          ...,\n",
              "          [0., 0., 0.,  ..., 0., 0., 0.],\n",
              "          [0., 0., 0.,  ..., 0., 0., 0.],\n",
              "          [0., 0., 0.,  ..., 0., 0., 0.]],\n",
              " \n",
              "         [[0., 0., 0.,  ..., 0., 0., 0.],\n",
              "          [0., 0., 0.,  ..., 0., 0., 0.],\n",
              "          [0., 0., 0.,  ..., 0., 0., 0.],\n",
              "          ...,\n",
              "          [0., 0., 0.,  ..., 0., 0., 0.],\n",
              "          [0., 0., 0.,  ..., 0., 0., 0.],\n",
              "          [0., 0., 0.,  ..., 0., 0., 0.]],\n",
              " \n",
              "         [[0., 0., 0.,  ..., 0., 0., 0.],\n",
              "          [0., 0., 0.,  ..., 0., 0., 0.],\n",
              "          [0., 0., 0.,  ..., 0., 0., 0.],\n",
              "          ...,\n",
              "          [0., 0., 0.,  ..., 0., 0., 0.],\n",
              "          [0., 0., 0.,  ..., 0., 0., 0.],\n",
              "          [0., 0., 0.,  ..., 0., 0., 0.]]]))"
            ]
          },
          "metadata": {}
        }
      ]
    }
  ]
}